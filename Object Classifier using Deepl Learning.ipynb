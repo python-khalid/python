{
  "nbformat": 4,
  "nbformat_minor": 0,
  "metadata": {
    "colab": {
      "name": "test2.ipynb",
      "provenance": [],
      "collapsed_sections": [],
      "mount_file_id": "1Ah-MkQfruDk2ihcRoOvLk_xhNQTAPwK1",
      "authorship_tag": "ABX9TyNBRLRxxP4b88mDk1afZ1aW",
      "include_colab_link": true
    },
    "kernelspec": {
      "name": "python3",
      "display_name": "Python 3"
    },
    "language_info": {
      "name": "python"
    },
    "accelerator": "GPU"
  },
  "cells": [
    {
      "cell_type": "markdown",
      "metadata": {
        "id": "view-in-github",
        "colab_type": "text"
      },
      "source": [
        "<a href=\"https://colab.research.google.com/github/python-khalid/python/blob/master/Object%20Classifier%20using%20Deepl%20Learning.ipynb\" target=\"_parent\"><img src=\"https://colab.research.google.com/assets/colab-badge.svg\" alt=\"Open In Colab\"/></a>"
      ]
    },
    {
      "cell_type": "code",
      "metadata": {
        "colab": {
          "base_uri": "https://localhost:8080/"
        },
        "id": "8qy1sLV1xGyi",
        "outputId": "929ab28b-4828-49e6-d6b6-593859ec2441"
      },
      "source": [
        "%ls /content/drive/MyDrive/Pythonproject/"
      ],
      "execution_count": null,
      "outputs": [
        {
          "output_type": "stream",
          "text": [
            "banana.jpg  car1.jpg  dog.jpg  Elon_Musk.jpg\n"
          ],
          "name": "stdout"
        }
      ]
    },
    {
      "cell_type": "code",
      "metadata": {
        "id": "SWn7NoVwzFyy",
        "colab": {
          "base_uri": "https://localhost:8080/"
        },
        "outputId": "d90019e7-f67d-4aa9-a2ad-26fd59a7b806"
      },
      "source": [
        "%cd Pythonproject/\n",
        "#import all desier libraries \n",
        "from tensorflow.keras.preprocessing.image import load_img\n",
        "#to convert image to array form \n",
        "from tensorflow.keras.preprocessing.image import img_to_array\n",
        "#import resnet pre prianed module \n",
        "from tensorflow.keras.applications.resnet50 import ResNet50\n",
        "from tensorflow.keras.preprocessing import image\n",
        "from tensorflow.keras.applications.resnet50 import preprocess_input\n",
        "from tensorflow.keras.applications.resnet50 import decode_predictions\n",
        "#pre tranind module classification \n",
        "mymodel=ResNet50()\n",
        "#load image\n",
        "myimg=load_img('banana.jpg',target_size=(224,224))\n",
        "#myimg\n",
        "myimg=img_to_array(myimg)\n",
        "#reshap the image\n",
        "myimg=myimg.reshape((1,224,224,3))\n",
        "#Preprocess the image\n",
        "myimg=preprocess_input(myimg)\n",
        "#run the model to pridect\n",
        "myresult=mymodel.predict(myimg)\n",
        "#decode the image\n",
        "mylabel=decode_predictions(myresult)\n",
        "#Display image\n",
        "mylabel=mylabel[0][0]\n",
        "#print imagelabel\n",
        "print('this is a:'+mylabel[1])"
      ],
      "execution_count": null,
      "outputs": [
        {
          "output_type": "stream",
          "text": [
            "[Errno 2] No such file or directory: 'Pythonproject/'\n",
            "/content/drive/My Drive/Pythonproject\n",
            "this is a:banana\n"
          ],
          "name": "stdout"
        }
      ]
    }
  ]
}